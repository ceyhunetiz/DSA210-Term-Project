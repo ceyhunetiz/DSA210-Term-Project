{
  "nbformat": 4,
  "nbformat_minor": 0,
  "metadata": {
    "colab": {
      "provenance": []
    },
    "kernelspec": {
      "name": "python3",
      "display_name": "Python 3"
    },
    "language_info": {
      "name": "python"
    }
  },
  "cells": [
    {
      "cell_type": "markdown",
      "source": [
        "## Weather Data Collection\n"
      ],
      "metadata": {
        "id": "V9K0WwlVkI-W"
      }
    },
    {
      "cell_type": "code",
      "source": [
        "import pandas as pd\n",
        "import requests\n",
        "import io\n",
        "from google.colab import files\n",
        "from datetime import datetime, timedelta\n",
        "\n",
        "\n",
        "API_KEY = \"7H4THT9QDNSJX23R5SX52VJDV\"\n",
        "location = \"Istanbul,Turkey\"\n",
        "start_date = datetime.strptime(\"2025-03-14\", \"%Y-%m-%d\")\n",
        "end_date = datetime.today()\n",
        "\n",
        "\n",
        "def fetch_weather_chunk(start, end):\n",
        "    url = f\"https://weather.visualcrossing.com/VisualCrossingWebServices/rest/services/timeline/{location}/{start}/{end}\"\n",
        "    params = {\n",
        "        \"unitGroup\": \"metric\",\n",
        "        \"key\": API_KEY,\n",
        "        \"include\": \"days\",\n",
        "        \"contentType\": \"csv\"\n",
        "    }\n",
        "    response = requests.get(url, params=params)\n",
        "    if response.status_code != 200:\n",
        "        print(f\"Error fetching data from {start} to {end}: {response.text}\")\n",
        "        return pd.DataFrame()\n",
        "    df = pd.read_csv(io.StringIO(response.text))\n",
        "\n",
        "\n",
        "    df[\"name\"] = df[\"name\"].str.encode(\"latin1\").str.decode(\"utf-8\")\n",
        "\n",
        "\n",
        "    df = df[[\"datetime\", \"conditions\", \"tempmax\", \"tempmin\", \"humidity\"]]\n",
        "    df.columns = [\"date\", \"weather_condition\", \"high_temp\", \"low_temp\", \"humidity\"]\n",
        "\n",
        "    return df\n",
        "\n",
        "\n",
        "weather_frames = []\n",
        "current = start_date\n",
        "\n",
        "while current < end_date:\n",
        "\n",
        "    next_month = (current.replace(day=1) + timedelta(days=32)).replace(day=1)\n",
        "    chunk_end = min(end_date, next_month - timedelta(days=1))\n",
        "    print(f\"Fetching: {current.date()} to {chunk_end.date()}\")\n",
        "    chunk_df = fetch_weather_chunk(current.strftime(\"%Y-%m-%d\"), chunk_end.strftime(\"%Y-%m-%d\"))\n",
        "    weather_frames.append(chunk_df)\n",
        "    current = next_month\n",
        "\n",
        "\n",
        "weather_data = pd.concat(weather_frames, ignore_index=True)\n",
        "\n",
        "filename = \"istanbul_weather_cleaned.csv\"\n",
        "weather_data.to_csv(filename, index=False)\n",
        "files.download(filename)\n",
        "\n",
        "\n",
        "\n"
      ],
      "metadata": {
        "colab": {
          "base_uri": "https://localhost:8080/",
          "height": 51
        },
        "id": "R_yQj1c7lTbV",
        "outputId": "6131460b-9b26-415d-cd87-354f188175e6"
      },
      "execution_count": null,
      "outputs": [
        {
          "output_type": "stream",
          "name": "stdout",
          "text": [
            "Fetching: 2025-03-14 to 2025-03-31\n",
            "Fetching: 2025-04-01 to 2025-04-25\n"
          ]
        },
        {
          "output_type": "display_data",
          "data": {
            "text/plain": [
              "<IPython.core.display.Javascript object>"
            ],
            "application/javascript": [
              "\n",
              "    async function download(id, filename, size) {\n",
              "      if (!google.colab.kernel.accessAllowed) {\n",
              "        return;\n",
              "      }\n",
              "      const div = document.createElement('div');\n",
              "      const label = document.createElement('label');\n",
              "      label.textContent = `Downloading \"${filename}\": `;\n",
              "      div.appendChild(label);\n",
              "      const progress = document.createElement('progress');\n",
              "      progress.max = size;\n",
              "      div.appendChild(progress);\n",
              "      document.body.appendChild(div);\n",
              "\n",
              "      const buffers = [];\n",
              "      let downloaded = 0;\n",
              "\n",
              "      const channel = await google.colab.kernel.comms.open(id);\n",
              "      // Send a message to notify the kernel that we're ready.\n",
              "      channel.send({})\n",
              "\n",
              "      for await (const message of channel.messages) {\n",
              "        // Send a message to notify the kernel that we're ready.\n",
              "        channel.send({})\n",
              "        if (message.buffers) {\n",
              "          for (const buffer of message.buffers) {\n",
              "            buffers.push(buffer);\n",
              "            downloaded += buffer.byteLength;\n",
              "            progress.value = downloaded;\n",
              "          }\n",
              "        }\n",
              "      }\n",
              "      const blob = new Blob(buffers, {type: 'application/binary'});\n",
              "      const a = document.createElement('a');\n",
              "      a.href = window.URL.createObjectURL(blob);\n",
              "      a.download = filename;\n",
              "      div.appendChild(a);\n",
              "      a.click();\n",
              "      div.remove();\n",
              "    }\n",
              "  "
            ]
          },
          "metadata": {}
        },
        {
          "output_type": "display_data",
          "data": {
            "text/plain": [
              "<IPython.core.display.Javascript object>"
            ],
            "application/javascript": [
              "download(\"download_87bfd1ab-20aa-4480-9d74-00fd28557db4\", \"istanbul_weather_cleaned.csv\", 1955)"
            ]
          },
          "metadata": {}
        }
      ]
    }
  ]
}